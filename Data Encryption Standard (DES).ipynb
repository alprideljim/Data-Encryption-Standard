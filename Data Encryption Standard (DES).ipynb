{
  "nbformat": 4,
  "nbformat_minor": 0,
  "metadata": {
    "colab": {
      "provenance": []
    },
    "kernelspec": {
      "name": "python3",
      "display_name": "Python 3"
    },
    "language_info": {
      "name": "python"
    }
  },
  "cells": [
    {
      "cell_type": "code",
      "execution_count": 1,
      "metadata": {
        "colab": {
          "base_uri": "https://localhost:8080/"
        },
        "id": "sV3tQxzmZ0hp",
        "outputId": "9d430a8a-9e65-4ca8-ff22-51a7527b8149"
      },
      "outputs": [
        {
          "output_type": "stream",
          "name": "stdout",
          "text": [
            "Collecting pycryptodome\n",
            "  Downloading pycryptodome-3.23.0-cp37-abi3-manylinux_2_17_x86_64.manylinux2014_x86_64.whl.metadata (3.4 kB)\n",
            "Downloading pycryptodome-3.23.0-cp37-abi3-manylinux_2_17_x86_64.manylinux2014_x86_64.whl (2.3 MB)\n",
            "\u001b[2K   \u001b[90m━━━━━━━━━━━━━━━━━━━━━━━━━━━━━━━━━━━━━━━━\u001b[0m \u001b[32m2.3/2.3 MB\u001b[0m \u001b[31m14.1 MB/s\u001b[0m eta \u001b[36m0:00:00\u001b[0m\n",
            "\u001b[?25hInstalling collected packages: pycryptodome\n",
            "Successfully installed pycryptodome-3.23.0\n"
          ]
        }
      ],
      "source": [
        "!pip install pycryptodome"
      ]
    },
    {
      "cell_type": "code",
      "source": [
        "from Crypto.Cipher import DES\n",
        "from Crypto.Random import get_random_bytes\n",
        "from Crypto.Util.Padding import pad, unpad\n",
        "\n",
        "# buat kunci DES (harus 8 byte)\n",
        "key = b'12345678' # 8 bytes\n",
        "\n",
        "#bikin cipher object\n",
        "cipher = DES.new(key, DES.MODE_ECB)\n",
        "\n",
        "#pesan yang mau di enkripsi\n",
        "data = b'Mataram, mata air kehidupan'\n",
        "padded_data = pad(data, DES.block_size) # padding biar kelipatan 8\n",
        "\n",
        "#enkripsi\n",
        "encrypted = cipher.encrypt(padded_data)\n",
        "print(\"Encrypted:\", encrypted.hex())\n",
        "\n",
        "#deskripsi\n",
        "cipher2 = DES.new(key, DES.MODE_ECB)\n",
        "descrypted_padded = cipher2.decrypt(encrypted)\n",
        "descrypted = unpad(descrypted_padded, DES.block_size)\n",
        "print(\"Descrypted:\", descrypted.decode())"
      ],
      "metadata": {
        "colab": {
          "base_uri": "https://localhost:8080/"
        },
        "id": "1_8zLNqAaXgH",
        "outputId": "da3db552-dea8-4024-81f6-83edc456d5a7"
      },
      "execution_count": 4,
      "outputs": [
        {
          "output_type": "stream",
          "name": "stdout",
          "text": [
            "Encrypted: 78fdfd083678960292e9d3355b8ec293806d67d064c8a4bdc6a2d91c30ef8a8c\n",
            "Descrypted: Mataram, mata air kehidupan\n"
          ]
        }
      ]
    }
  ]
}